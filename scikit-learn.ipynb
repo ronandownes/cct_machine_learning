{
 "cells": [
  {
   "cell_type": "markdown",
   "id": "3d36afb5-4070-4130-a957-8c591cfb54f7",
   "metadata": {},
   "source": [
    "As of the latest version of `scikit-learn`, the `sklearn.datasets` module includes a variety of datasets, each useful for different tasks. Here’s a list of the available datasets and their names:\r\n",
    "\r\n",
    "### Toy Datasets\r\n",
    "1. **`load_boston`**: Boston housing dataset (Note: This dataset has been deprecated due to ethical concerns and should be avoided in new projects.)\r\n",
    "2. **`load_diabetes`**: Diabetes dataset\r\n",
    "3. **`load_iris`**: Iris dataset\r\n",
    "4. **`load_limited`**: Limited version of `load_iris` for quick learning\r\n",
    "5. **`load_wine`**: Wine dataset\r\n",
    "6. **`load_breast_cancer`**: Breast cancer dataset\r\n",
    "\r\n",
    "### Large Datasets\r\n",
    "1. **`fetch_olivetti_faces`**: Olivetti faces dataset\r\n",
    "2. **`fetch_lfw_people`**: Labeled Faces in the Wild (LFW) people dataset\r\n",
    "3. **`fetch_lfw_pairs`**: LFW pairs dataset\r\n",
    "4. **`fetch_california_housing`**: California housing dataset\r\n",
    "5. **`fetch_openml`**: Fetch datasets from OpenML\r\n",
    "\r\n",
    "### Sample Datasets\r\n",
    "1. **`make_classification`**: Create a synthetic classification dataset\r\n",
    "2. **`make_regression`**: Create a synthetic regression dataset\r\n",
    "3. **`make_blobs`**: Create a synthetic dataset with blobs\r\n",
    "4. **`make_moons`**: Create a synthetic dataset with moons\r\n",
    "5. **`make_circles`**: Create a synthetic dataset with circles\r\n",
    "6. **`make_gaussian_quantiles`**: Create a synthetic dataset with Gaussian quantiles\r\n",
    "\r\n",
    "### Other Datasets\r\n",
    "1. **`load_digits`**: Digits dataset (handwritten digits)\r\n",
    "2. **`load_sample_image`**: Sample image datasets\r\n",
    "3. **`load_sample_images`**: Sample images dataset\r\n",
    "\r\n",
    "You can explore these datasets using the `sklearn.datasets` module, and each dataset usually has a `load_*` function or a `fetch_*` function for loading data."
   ]
  },
  {
   "cell_type": "code",
   "execution_count": null,
   "id": "20de3ca4-3580-4a38-b94d-8f870d562e1f",
   "metadata": {},
   "outputs": [],
   "source": []
  },
  {
   "cell_type": "code",
   "execution_count": null,
   "id": "d65325c5-92bf-48b3-be4c-9d4f744bddbb",
   "metadata": {},
   "outputs": [],
   "source": []
  }
 ],
 "metadata": {
  "kernelspec": {
   "display_name": "Python 3 (ipykernel)",
   "language": "python",
   "name": "python3"
  },
  "language_info": {
   "codemirror_mode": {
    "name": "ipython",
    "version": 3
   },
   "file_extension": ".py",
   "mimetype": "text/x-python",
   "name": "python",
   "nbconvert_exporter": "python",
   "pygments_lexer": "ipython3",
   "version": "3.12.4"
  }
 },
 "nbformat": 4,
 "nbformat_minor": 5
}
