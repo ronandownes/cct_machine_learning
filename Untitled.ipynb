{
 "cells": [
  {
   "cell_type": "code",
   "execution_count": 5,
   "id": "fea1850e-62ae-4afe-b729-35fb80e3e471",
   "metadata": {},
   "outputs": [
    {
     "name": "stdout",
     "output_type": "stream",
     "text": [
      "Extracting Tutorial_1.zip...\n",
      "Extracted Tutorial_1.zip to .\\Tutorial_1\n",
      "Extracting Tutorial_1_Solution.zip...\n",
      "Extracted Tutorial_1_Solution.zip to .\\Tutorial_1_Solution\n",
      "Done!\n"
     ]
    }
   ],
   "source": [
    "import zipfile\n",
    "import os\n",
    "import glob\n",
    "\n",
    "# Get a list of all ZIP files in the current directory\n",
    "zip_files = glob.glob('*.zip')\n",
    "\n",
    "# Define the destination folder\n",
    "destination_folder = '.'\n",
    "\n",
    "# Create the destination folder if it doesn't exist\n",
    "os.makedirs(destination_folder, exist_ok=True)\n",
    "\n",
    "for zip_filename in zip_files:\n",
    "    # Create a subfolder for extraction, named after the ZIP file\n",
    "    zip_extract_folder = os.path.join(destination_folder, os.path.splitext(zip_filename)[0])\n",
    "    \n",
    "    # Check if the extraction folder already contains files\n",
    "    if not os.path.exists(zip_extract_folder) or not os.listdir(zip_extract_folder):\n",
    "        print(f'Extracting {zip_filename}...')\n",
    "        with zipfile.ZipFile(zip_filename, 'r') as zip_ref:\n",
    "            zip_ref.extractall(zip_extract_folder)\n",
    "        print(f'Extracted {zip_filename} to {zip_extract_folder}')\n",
    "    else:\n",
    "        print(f'{zip_filename} already extracted to {zip_extract_folder}. Skipping.')\n",
    "\n",
    "print('Done!')\n"
   ]
  },
  {
   "cell_type": "code",
   "execution_count": null,
   "id": "4b7cb502-1017-470f-8456-ba0b73e6c4a5",
   "metadata": {},
   "outputs": [],
   "source": []
  }
 ],
 "metadata": {
  "kernelspec": {
   "display_name": "Python 3 (ipykernel)",
   "language": "python",
   "name": "python3"
  },
  "language_info": {
   "codemirror_mode": {
    "name": "ipython",
    "version": 3
   },
   "file_extension": ".py",
   "mimetype": "text/x-python",
   "name": "python",
   "nbconvert_exporter": "python",
   "pygments_lexer": "ipython3",
   "version": "3.12.4"
  }
 },
 "nbformat": 4,
 "nbformat_minor": 5
}
