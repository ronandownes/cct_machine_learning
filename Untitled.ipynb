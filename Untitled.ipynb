{
 "cells": [
  {
   "cell_type": "code",
   "execution_count": 5,
   "id": "fea1850e-62ae-4afe-b729-35fb80e3e471",
   "metadata": {},
   "outputs": [
    {
     "name": "stdout",
     "output_type": "stream",
     "text": [
      "Extracting Tutorial_1.zip...\n",
      "Extracted Tutorial_1.zip to .\\Tutorial_1\n",
      "Extracting Tutorial_1_Solution.zip...\n",
      "Extracted Tutorial_1_Solution.zip to .\\Tutorial_1_Solution\n",
      "Done!\n"
     ]
    }
   ],
   "source": [
    "import zipfile\n",
    "import os\n",
    "import glob\n",
    "\n",
    "# Get a list of all ZIP files in the current directory\n",
    "zip_files = glob.glob('*.zip')\n",
    "\n",
    "# Define the destination folder\n",
    "destination_folder = '.'\n",
    "\n",
    "# Create the destination folder if it doesn't exist\n",
    "os.makedirs(destination_folder, exist_ok=True)\n",
    "\n",
    "for zip_filename in zip_files:\n",
    "    # Create a subfolder for extraction, named after the ZIP file\n",
    "    zip_extract_folder = os.path.join(destination_folder, os.path.splitext(zip_filename)[0])\n",
    "    \n",
    "    # Check if the extraction folder already contains files\n",
    "    if not os.path.exists(zip_extract_folder) or not os.listdir(zip_extract_folder):\n",
    "        print(f'Extracting {zip_filename}...')\n",
    "        with zipfile.ZipFile(zip_filename, 'r') as zip_ref:\n",
    "            zip_ref.extractall(zip_extract_folder)\n",
    "        print(f'Extracted {zip_filename} to {zip_extract_folder}')\n",
    "    else:\n",
    "        print(f'{zip_filename} already extracted to {zip_extract_folder}. Skipping.')\n",
    "\n",
    "print('Done!')\n"
   ]
  },
  {
   "cell_type": "code",
   "execution_count": 1,
   "id": "4b7cb502-1017-470f-8456-ba0b73e6c4a5",
   "metadata": {},
   "outputs": [
    {
     "ename": "PermissionError",
     "evalue": "[WinError 32] The process cannot access the file because it is being used by another process: 'Tutorial_1' -> 'Tutorial_1_1'",
     "output_type": "error",
     "traceback": [
      "\u001b[1;31m---------------------------------------------------------------------------\u001b[0m",
      "\u001b[1;31mPermissionError\u001b[0m                           Traceback (most recent call last)",
      "Cell \u001b[1;32mIn[1], line 30\u001b[0m\n\u001b[0;32m     27\u001b[0m zip_file \u001b[38;5;241m=\u001b[39m \u001b[38;5;124m'\u001b[39m\u001b[38;5;124mTutorial_1.zip\u001b[39m\u001b[38;5;124m'\u001b[39m\n\u001b[0;32m     28\u001b[0m extraction_folder \u001b[38;5;241m=\u001b[39m os\u001b[38;5;241m.\u001b[39mpath\u001b[38;5;241m.\u001b[39msplitext(zip_file)[\u001b[38;5;241m0\u001b[39m]  \u001b[38;5;66;03m# 'Tutorial_1'\u001b[39;00m\n\u001b[1;32m---> 30\u001b[0m unzip_with_unique_name(zip_file, extraction_folder)\n",
      "Cell \u001b[1;32mIn[1], line 24\u001b[0m, in \u001b[0;36munzip_with_unique_name\u001b[1;34m(zip_file_path, extract_to_folder)\u001b[0m\n\u001b[0;32m     22\u001b[0m \u001b[38;5;66;03m# Rename the extracted folder if needed\u001b[39;00m\n\u001b[0;32m     23\u001b[0m \u001b[38;5;28;01mif\u001b[39;00m folder_name \u001b[38;5;241m!=\u001b[39m extract_to_folder:\n\u001b[1;32m---> 24\u001b[0m     os\u001b[38;5;241m.\u001b[39mrename(extract_to_folder, folder_name)\n",
      "\u001b[1;31mPermissionError\u001b[0m: [WinError 32] The process cannot access the file because it is being used by another process: 'Tutorial_1' -> 'Tutorial_1_1'"
     ]
    }
   ],
   "source": [
    "import zipfile\n",
    "import os\n",
    "\n",
    "def unzip_with_unique_name(zip_file_path, extract_to_folder):\n",
    "    # Ensure the extraction folder exists\n",
    "    if not os.path.exists(extract_to_folder):\n",
    "        os.makedirs(extract_to_folder)\n",
    "\n",
    "    # Unzip the file\n",
    "    with zipfile.ZipFile(zip_file_path, 'r') as zip_ref:\n",
    "        zip_ref.extractall(extract_to_folder)\n",
    "\n",
    "    # Rename if necessary to avoid overwriting\n",
    "    base_name = os.path.splitext(os.path.basename(zip_file_path))[0]\n",
    "    folder_name = extract_to_folder\n",
    "    counter = 1\n",
    "\n",
    "    while os.path.exists(folder_name):\n",
    "        folder_name = f\"{extract_to_folder}_{counter}\"\n",
    "        counter += 1\n",
    "\n",
    "    # Rename the extracted folder if needed\n",
    "    if folder_name != extract_to_folder:\n",
    "        os.rename(extract_to_folder, folder_name)\n",
    "\n",
    "# Example usage\n",
    "zip_file = 'Tutorial_1.zip'\n",
    "extraction_folder = os.path.splitext(zip_file)[0]  # 'Tutorial_1'\n",
    "\n",
    "unzip_with_unique_name(zip_file, extraction_folder)\n"
   ]
  },
  {
   "cell_type": "code",
   "execution_count": null,
   "id": "4083ff82-d638-4c4d-b378-b31302413c8e",
   "metadata": {},
   "outputs": [],
   "source": []
  }
 ],
 "metadata": {
  "kernelspec": {
   "display_name": "Python 3 (ipykernel)",
   "language": "python",
   "name": "python3"
  },
  "language_info": {
   "codemirror_mode": {
    "name": "ipython",
    "version": 3
   },
   "file_extension": ".py",
   "mimetype": "text/x-python",
   "name": "python",
   "nbconvert_exporter": "python",
   "pygments_lexer": "ipython3",
   "version": "3.12.4"
  }
 },
 "nbformat": 4,
 "nbformat_minor": 5
}
